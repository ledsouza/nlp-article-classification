{
 "cells": [
  {
   "cell_type": "markdown",
   "metadata": {},
   "source": [
    "## Libraries"
   ]
  },
  {
   "cell_type": "code",
   "execution_count": 11,
   "metadata": {},
   "outputs": [],
   "source": [
    "import pandas as pd\n",
    "import requests\n",
    "from pathlib import Path\n",
    "from functools import lru_cache\n",
    "import spacy\n",
    "from spacy.tokens import Doc"
   ]
  },
  {
   "cell_type": "markdown",
   "metadata": {},
   "source": [
    "## Helper Functions"
   ]
  },
  {
   "cell_type": "code",
   "execution_count": null,
   "metadata": {},
   "outputs": [],
   "source": [
    "@lru_cache(maxsize=None)\n",
    "def download_csv(url, data_dir='./../data') -> pd.DataFrame:\n",
    "    # Create cache directory if not exists\n",
    "    Path(data_dir).mkdir(parents=True, exist_ok=True)\n",
    "    \n",
    "    # Generate a safe filename from URL\n",
    "    filename = Path(data_dir) / url.split('/')[-1]\n",
    "    \n",
    "    # Check if file already exists locally\n",
    "    if filename.exists():\n",
    "        return pd.read_csv(filename)\n",
    "    \n",
    "    try:\n",
    "        # Advanced request with timeout and proper headers\n",
    "        headers = {\n",
    "            'User-Agent': 'Mozilla/5.0 Academic Data Retrieval',\n",
    "            'Accept': 'text/csv',\n",
    "        }\n",
    "        response = requests.get(\n",
    "            url, \n",
    "            headers=headers, \n",
    "            timeout=300,  # 300 seconds timeout\n",
    "            stream=True  # Memory efficient for large files\n",
    "        )\n",
    "        \n",
    "        # Raise an exception for bad status codes\n",
    "        response.raise_for_status()\n",
    "        \n",
    "        # Save to local cache\n",
    "        with open(filename, 'wb') as f:\n",
    "            for chunk in response.iter_content(chunk_size=8192):\n",
    "                f.write(chunk)\n",
    "        \n",
    "        return pd.read_csv(filename)\n",
    "    \n",
    "    except requests.exceptions.RequestException as e:\n",
    "        print(f\"Network error: {e}.\")\n",
    "        raise"
   ]
  },
  {
   "cell_type": "code",
   "execution_count": 16,
   "metadata": {},
   "outputs": [],
   "source": [
    "def get_text_from_valid_tokens(doc: Doc) -> str:\n",
    "    valid_tokens = []\n",
    "\n",
    "    for token in doc:\n",
    "        is_valid = token.is_alpha and not token.is_stop\n",
    "        if is_valid:\n",
    "            valid_tokens.append(token.text)\n",
    "\n",
    "    if len(valid_tokens) > 2:\n",
    "        return \" \".join(valid_tokens)\n",
    "    return \"\""
   ]
  },
  {
   "cell_type": "markdown",
   "metadata": {},
   "source": [
    "## Loading data"
   ]
  },
  {
   "cell_type": "code",
   "execution_count": 9,
   "metadata": {},
   "outputs": [],
   "source": [
    "df_train = download_csv(\"https://cdn3.gnarususercontent.com.br/1638-word-embedding/treino.csv\")\n",
    "df_test = download_csv(\"https://cdn3.gnarususercontent.com.br/1638-word-embedding/teste.csv\")"
   ]
  },
  {
   "cell_type": "code",
   "execution_count": 10,
   "metadata": {},
   "outputs": [
    {
     "data": {
      "text/html": [
       "<div>\n",
       "<style scoped>\n",
       "    .dataframe tbody tr th:only-of-type {\n",
       "        vertical-align: middle;\n",
       "    }\n",
       "\n",
       "    .dataframe tbody tr th {\n",
       "        vertical-align: top;\n",
       "    }\n",
       "\n",
       "    .dataframe thead th {\n",
       "        text-align: right;\n",
       "    }\n",
       "</style>\n",
       "<table border=\"1\" class=\"dataframe\">\n",
       "  <thead>\n",
       "    <tr style=\"text-align: right;\">\n",
       "      <th></th>\n",
       "      <th>title</th>\n",
       "      <th>text</th>\n",
       "      <th>date</th>\n",
       "      <th>category</th>\n",
       "      <th>subcategory</th>\n",
       "      <th>link</th>\n",
       "    </tr>\n",
       "  </thead>\n",
       "  <tbody>\n",
       "    <tr>\n",
       "      <th>73487</th>\n",
       "      <td>NBA fala em 'injustiça' e estuda mudar sistema...</td>\n",
       "      <td>O comissário da NBA, Adam Silver, disse nesta ...</td>\n",
       "      <td>2015-06-02</td>\n",
       "      <td>esporte</td>\n",
       "      <td>NaN</td>\n",
       "      <td>http://www1.folha.uol.com.br/esporte/2015/02/1...</td>\n",
       "    </tr>\n",
       "    <tr>\n",
       "      <th>35466</th>\n",
       "      <td>Gigantes da tecnologia usam clientes como escu...</td>\n",
       "      <td>Primeiro foi o diretor-geral do Google no país...</td>\n",
       "      <td>2016-01-03</td>\n",
       "      <td>mercado</td>\n",
       "      <td>NaN</td>\n",
       "      <td>http://www1.folha.uol.com.br/mercado/2016/03/1...</td>\n",
       "    </tr>\n",
       "    <tr>\n",
       "      <th>86848</th>\n",
       "      <td>Lixo, tragédia e oportunidades</td>\n",
       "      <td>Podemos definir como trágica a situação atual ...</td>\n",
       "      <td>2016-06-04</td>\n",
       "      <td>colunas</td>\n",
       "      <td>raquelrolnik</td>\n",
       "      <td>http://www1.folha.uol.com.br/colunas/raquelrol...</td>\n",
       "    </tr>\n",
       "    <tr>\n",
       "      <th>7099</th>\n",
       "      <td>Flamengo critica árbitro que não marcou toque ...</td>\n",
       "      <td>Nesta segunda-feira (7), o Flamengo publicou e...</td>\n",
       "      <td>2015-07-09</td>\n",
       "      <td>esporte</td>\n",
       "      <td>NaN</td>\n",
       "      <td>http://www1.folha.uol.com.br/esporte/2015/09/1...</td>\n",
       "    </tr>\n",
       "    <tr>\n",
       "      <th>24265</th>\n",
       "      <td>Dilma quer ampliar leilão de rodovias para até...</td>\n",
       "      <td>Em busca de um plano que gere impacto positivo...</td>\n",
       "      <td>2015-05-14</td>\n",
       "      <td>mercado</td>\n",
       "      <td>NaN</td>\n",
       "      <td>http://www1.folha.uol.com.br/mercado/2015/05/1...</td>\n",
       "    </tr>\n",
       "  </tbody>\n",
       "</table>\n",
       "</div>"
      ],
      "text/plain": [
       "                                                   title  \\\n",
       "73487  NBA fala em 'injustiça' e estuda mudar sistema...   \n",
       "35466  Gigantes da tecnologia usam clientes como escu...   \n",
       "86848                     Lixo, tragédia e oportunidades   \n",
       "7099   Flamengo critica árbitro que não marcou toque ...   \n",
       "24265  Dilma quer ampliar leilão de rodovias para até...   \n",
       "\n",
       "                                                    text        date category  \\\n",
       "73487  O comissário da NBA, Adam Silver, disse nesta ...  2015-06-02  esporte   \n",
       "35466  Primeiro foi o diretor-geral do Google no país...  2016-01-03  mercado   \n",
       "86848  Podemos definir como trágica a situação atual ...  2016-06-04  colunas   \n",
       "7099   Nesta segunda-feira (7), o Flamengo publicou e...  2015-07-09  esporte   \n",
       "24265  Em busca de um plano que gere impacto positivo...  2015-05-14  mercado   \n",
       "\n",
       "        subcategory                                               link  \n",
       "73487           NaN  http://www1.folha.uol.com.br/esporte/2015/02/1...  \n",
       "35466           NaN  http://www1.folha.uol.com.br/mercado/2016/03/1...  \n",
       "86848  raquelrolnik  http://www1.folha.uol.com.br/colunas/raquelrol...  \n",
       "7099            NaN  http://www1.folha.uol.com.br/esporte/2015/09/1...  \n",
       "24265           NaN  http://www1.folha.uol.com.br/mercado/2015/05/1...  "
      ]
     },
     "execution_count": 10,
     "metadata": {},
     "output_type": "execute_result"
    }
   ],
   "source": [
    "df_train.sample(5)"
   ]
  },
  {
   "cell_type": "markdown",
   "metadata": {},
   "source": [
    "## Processing Data"
   ]
  },
  {
   "cell_type": "code",
   "execution_count": null,
   "metadata": {},
   "outputs": [],
   "source": [
    "train_texts = df_train[\"title\"].str.lower()"
   ]
  },
  {
   "cell_type": "code",
   "execution_count": 17,
   "metadata": {},
   "outputs": [],
   "source": [
    "nlp = spacy.load(\"pt_core_news_sm\")\n",
    "\n",
    "cleaned_texts = []\n",
    "for doc in nlp.pipe(train_texts, batch_size=1000, n_process=-1):\n",
    "    cleaned_texts.append(get_text_from_valid_tokens(doc))"
   ]
  },
  {
   "cell_type": "code",
   "execution_count": 18,
   "metadata": {},
   "outputs": [
    {
     "data": {
      "text/html": [
       "<div>\n",
       "<style scoped>\n",
       "    .dataframe tbody tr th:only-of-type {\n",
       "        vertical-align: middle;\n",
       "    }\n",
       "\n",
       "    .dataframe tbody tr th {\n",
       "        vertical-align: top;\n",
       "    }\n",
       "\n",
       "    .dataframe thead th {\n",
       "        text-align: right;\n",
       "    }\n",
       "</style>\n",
       "<table border=\"1\" class=\"dataframe\">\n",
       "  <thead>\n",
       "    <tr style=\"text-align: right;\">\n",
       "      <th></th>\n",
       "      <th>Title</th>\n",
       "    </tr>\n",
       "  </thead>\n",
       "  <tbody>\n",
       "    <tr>\n",
       "      <th>62368</th>\n",
       "      <td>túmulo jesus restaurado apresentado jerusalém</td>\n",
       "    </tr>\n",
       "    <tr>\n",
       "      <th>24638</th>\n",
       "      <td>suprema corte eua avaliará legalidade casament...</td>\n",
       "    </tr>\n",
       "    <tr>\n",
       "      <th>76538</th>\n",
       "      <td>nevasca deixa retidos estação trem sul china</td>\n",
       "    </tr>\n",
       "    <tr>\n",
       "      <th>21524</th>\n",
       "      <td>greve argentinos dificuldade voltar país</td>\n",
       "    </tr>\n",
       "    <tr>\n",
       "      <th>79563</th>\n",
       "      <td>promotoria investigar clube lucra jogar campeo...</td>\n",
       "    </tr>\n",
       "  </tbody>\n",
       "</table>\n",
       "</div>"
      ],
      "text/plain": [
       "                                                   Title\n",
       "62368      túmulo jesus restaurado apresentado jerusalém\n",
       "24638  suprema corte eua avaliará legalidade casament...\n",
       "76538       nevasca deixa retidos estação trem sul china\n",
       "21524           greve argentinos dificuldade voltar país\n",
       "79563  promotoria investigar clube lucra jogar campeo..."
      ]
     },
     "execution_count": 18,
     "metadata": {},
     "output_type": "execute_result"
    }
   ],
   "source": [
    "df_train_cleaned = pd.DataFrame({\"Title\": cleaned_texts})\n",
    "df_train_cleaned.sample(5)"
   ]
  },
  {
   "cell_type": "code",
   "execution_count": null,
   "metadata": {},
   "outputs": [],
   "source": []
  }
 ],
 "metadata": {
  "kernelspec": {
   "display_name": ".venv",
   "language": "python",
   "name": "python3"
  },
  "language_info": {
   "codemirror_mode": {
    "name": "ipython",
    "version": 3
   },
   "file_extension": ".py",
   "mimetype": "text/x-python",
   "name": "python",
   "nbconvert_exporter": "python",
   "pygments_lexer": "ipython3",
   "version": "3.12.7"
  }
 },
 "nbformat": 4,
 "nbformat_minor": 2
}
